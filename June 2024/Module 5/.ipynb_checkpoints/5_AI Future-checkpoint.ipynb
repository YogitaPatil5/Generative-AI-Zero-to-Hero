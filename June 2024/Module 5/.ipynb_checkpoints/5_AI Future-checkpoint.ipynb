{
 "cells": [
  {
   "cell_type": "markdown",
   "id": "1f4487f4",
   "metadata": {},
   "source": [
    "### Contents\n",
    "\n",
    "AI Hype vs Reality\n",
    "\n",
    "Evaluate the potential of NLP and LLM in Businesses\n",
    "\n",
    "Use Cases\n",
    "\n",
    "Healthcare\n",
    "\n",
    "1. Drug discovery and development\n",
    "2. Medical Imaging\n",
    "3. Personalized treatment\n",
    "\n",
    "Finance\n",
    "\n",
    "1. Synthetic fraud generation and prevention\n",
    "2. Financial forecasting\n",
    "3. Customer service automation\n",
    "\n",
    "Media and Entertainment\n",
    "\n",
    "1. Content Creation\n",
    "2. Script and Story generation"
   ]
  },
  {
   "cell_type": "code",
   "execution_count": null,
   "id": "5c0036e1",
   "metadata": {},
   "outputs": [],
   "source": []
  },
  {
   "cell_type": "markdown",
   "id": "c0f5f18f",
   "metadata": {},
   "source": [
    "## AI Hype vs Reality\n",
    "\n",
    "\n",
    "https://medium.com/@hemansnation/devin-is-going-to-take-your-job-as-a-software-engineer-6a56cb850689\n",
    "\n",
    "\n",
    "https://newsletter.himanshuramchandani.co/p/ai-hype-of-half-working-solutions-vs-reality"
   ]
  },
  {
   "cell_type": "code",
   "execution_count": null,
   "id": "70f7ac3f",
   "metadata": {},
   "outputs": [],
   "source": [
    "- actual advancements and marketing - devin(AI software engineer)\n",
    "- hackathons\n",
    "- VCs will not fund your product if you do not have AI integration\n",
    "- "
   ]
  },
  {
   "cell_type": "code",
   "execution_count": null,
   "id": "50f13cc9",
   "metadata": {},
   "outputs": [],
   "source": [
    "data team\n",
    "- data engineer\n",
    "- AI product managers\n",
    "- ML Ops engineer"
   ]
  },
  {
   "cell_type": "code",
   "execution_count": null,
   "id": "1a85c9cb",
   "metadata": {},
   "outputs": [],
   "source": [
    "what should a leader do?\n",
    "\n",
    "- what do you need exactly for AI?\n",
    "- what you want to improve - services, speed up data processing, enhance product quality\n",
    "- how the available solution work in real life\n",
    "- how quickly you can create a prototype\n",
    "- "
   ]
  },
  {
   "cell_type": "markdown",
   "id": "ff35d1fc",
   "metadata": {},
   "source": [
    "## Evaluate the potential of NLP and LLM in Businesses"
   ]
  },
  {
   "cell_type": "code",
   "execution_count": null,
   "id": "4983a119",
   "metadata": {},
   "outputs": [],
   "source": [
    "- data abundance\n",
    "- digital readiness\n",
    "- computational infrastructure\n",
    "- repetitive tasks\n",
    "- decision-making reliant on insights(market sentiment from social media)\n",
    "- high customer interations\n",
    "- continuous learning and updating"
   ]
  },
  {
   "cell_type": "code",
   "execution_count": null,
   "id": "8ecfd112",
   "metadata": {},
   "outputs": [],
   "source": []
  },
  {
   "cell_type": "markdown",
   "id": "fb42be5e",
   "metadata": {},
   "source": [
    "## Healthcare\n",
    "\n",
    "1. Drug discovery and development\n",
    "2. Medical Imaging\n",
    "3. Personalized treatment"
   ]
  },
  {
   "cell_type": "code",
   "execution_count": null,
   "id": "f1cd6c4c",
   "metadata": {},
   "outputs": [],
   "source": [
    "Drug discovery and development\n",
    "\n",
    "- generative ai, we can design new molecules and predict their properties\n",
    "\n",
    "- databases - PubChem, ChEMBL, DrugBank\n",
    "- molecule generative models - SMILES-based models, Graph NN, RDKit"
   ]
  },
  {
   "cell_type": "code",
   "execution_count": null,
   "id": "8ade58d1",
   "metadata": {},
   "outputs": [],
   "source": [
    "Medical Imaging\n",
    "\n",
    "- enhanced medical images from low quality to high quality scans for diagnostic accuracy\n",
    "\n",
    "- Databases - NIH Chest X-rays\n",
    "- U-Net, ResNet (MobileNet)\n"
   ]
  },
  {
   "cell_type": "code",
   "execution_count": null,
   "id": "c6c77eda",
   "metadata": {},
   "outputs": [],
   "source": [
    "Personalized treatment\n",
    "\n",
    "- treatment recommendation"
   ]
  },
  {
   "cell_type": "code",
   "execution_count": null,
   "id": "5e9a60e6",
   "metadata": {},
   "outputs": [],
   "source": [
    "hospitals are not connected to each other to share patient information for better treatment\n",
    "\n"
   ]
  },
  {
   "cell_type": "markdown",
   "id": "49643c75",
   "metadata": {},
   "source": [
    "# Finance\n",
    "\n",
    "1. Synthetic fraud generation and prevention\n",
    "2. Financial forecasting\n",
    "3. Customer service automation\n"
   ]
  },
  {
   "cell_type": "code",
   "execution_count": null,
   "id": "c035b8c7",
   "metadata": {},
   "outputs": [],
   "source": [
    "Synthetic fraud generation and prevention\n",
    "\n",
    "- fraud transaction data to improve the training of fraud detection system"
   ]
  },
  {
   "cell_type": "code",
   "execution_count": null,
   "id": "b600d3bc",
   "metadata": {},
   "outputs": [],
   "source": [
    "Financial forecasting\n",
    "\n",
    "- analyzing market trends and economic indicators"
   ]
  },
  {
   "cell_type": "code",
   "execution_count": null,
   "id": "c6f49afc",
   "metadata": {},
   "outputs": [],
   "source": [
    "Customer service automation\n",
    "\n",
    "- chatbot or virtual assistant for complex customer queries and provide financial advice"
   ]
  },
  {
   "cell_type": "code",
   "execution_count": null,
   "id": "3206a959",
   "metadata": {},
   "outputs": [],
   "source": []
  },
  {
   "cell_type": "markdown",
   "id": "500e5624",
   "metadata": {},
   "source": [
    "# Media and Entertainment\n",
    "\n",
    "1. Content Creation\n",
    "2. Script and Story generation"
   ]
  },
  {
   "cell_type": "code",
   "execution_count": null,
   "id": "1e787730",
   "metadata": {},
   "outputs": [],
   "source": [
    "Content Creation or filmmaking\n",
    "\n",
    "- script writting -> 20th Century Fox, Sony Pictures"
   ]
  },
  {
   "cell_type": "code",
   "execution_count": null,
   "id": "8ccebab8",
   "metadata": {},
   "outputs": [],
   "source": [
    "Script and Story generation\n",
    "\n",
    "- AI assist"
   ]
  },
  {
   "cell_type": "markdown",
   "id": "71c7f92d",
   "metadata": {},
   "source": [
    "### Idea"
   ]
  },
  {
   "cell_type": "code",
   "execution_count": null,
   "id": "050e1648",
   "metadata": {},
   "outputs": [],
   "source": [
    "Healthcare sector\n",
    "\n",
    "\n",
    "- develop a general medical knowledge engine\n",
    "\n",
    "- that is up to date with recent findings in the world of healthcare"
   ]
  }
 ],
 "metadata": {
  "kernelspec": {
   "display_name": "Python 3 (ipykernel)",
   "language": "python",
   "name": "python3"
  },
  "language_info": {
   "codemirror_mode": {
    "name": "ipython",
    "version": 3
   },
   "file_extension": ".py",
   "mimetype": "text/x-python",
   "name": "python",
   "nbconvert_exporter": "python",
   "pygments_lexer": "ipython3",
   "version": "3.9.12"
  }
 },
 "nbformat": 4,
 "nbformat_minor": 5
}
