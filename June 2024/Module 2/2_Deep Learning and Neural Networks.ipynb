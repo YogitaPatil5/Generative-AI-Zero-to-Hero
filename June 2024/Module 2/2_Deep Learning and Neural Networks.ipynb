{
 "cells": [
  {
   "cell_type": "markdown",
   "id": "030f7b4f",
   "metadata": {},
   "source": [
    "# Deep Learning and NN\n",
    "\n",
    "1. Neural Networks\n",
    "    - Neuron\n",
    "    - Perceptron\n",
    "    - Multi-Layer Perceptron\n",
    "2. Various Neural Network Architectures\n",
    "    - Convolutional Neural Networks (CNNs)\n",
    "    - Recurrent Neural Networks (RNNs)\n",
    "    - Long Short-Term Memory (LSTM)\n",
    "3. Transfer Learning"
   ]
  },
  {
   "cell_type": "markdown",
   "id": "53a5342c",
   "metadata": {},
   "source": [
    "# Deep Learning"
   ]
  },
  {
   "cell_type": "code",
   "execution_count": null,
   "id": "e6352493",
   "metadata": {},
   "outputs": [],
   "source": [
    "Machine Learning - used for structured data (relational databases)\n",
    "- we do feature engineering\n",
    "\n",
    "\n",
    "Deep Learning - used for unstructred data (text, images, videos, audios)\n",
    "- we do not need feature engineering\n"
   ]
  },
  {
   "cell_type": "markdown",
   "id": "a3e605ac",
   "metadata": {},
   "source": [
    "# Neuron\n",
    "\n",
    "<img src='n11.jpeg' />"
   ]
  },
  {
   "cell_type": "code",
   "execution_count": null,
   "id": "c97ceb2d",
   "metadata": {},
   "outputs": [],
   "source": []
  },
  {
   "cell_type": "markdown",
   "id": "0ba0b21d",
   "metadata": {},
   "source": [
    "## Single Neuron (unit)\n",
    "\n",
    "with single input\n",
    "\n",
    "<img src='n3.png' />"
   ]
  },
  {
   "cell_type": "code",
   "execution_count": null,
   "id": "e0135d1b",
   "metadata": {},
   "outputs": [],
   "source": [
    "y = wx + b\n",
    "\n",
    "# w - weights\n",
    "\n",
    "# b - bias\n",
    "\n",
    "y = mx + c"
   ]
  },
  {
   "cell_type": "markdown",
   "id": "ca141a7a",
   "metadata": {},
   "source": [
    "## multiple input\n",
    "\n",
    "<img src='n4.png' />"
   ]
  },
  {
   "cell_type": "code",
   "execution_count": null,
   "id": "9cd97968",
   "metadata": {},
   "outputs": [],
   "source": [
    "y = x0w0 + x1w1 + x2w2 + b\n",
    "\n"
   ]
  },
  {
   "cell_type": "code",
   "execution_count": null,
   "id": "da0225c9",
   "metadata": {},
   "outputs": [],
   "source": []
  },
  {
   "cell_type": "markdown",
   "id": "aba00ce0",
   "metadata": {},
   "source": [
    "# Perceptron\n",
    "\n",
    "<img src='n5.png' />"
   ]
  },
  {
   "cell_type": "code",
   "execution_count": null,
   "id": "f5c5b6ea",
   "metadata": {},
   "outputs": [],
   "source": [
    "perceptron is a single layer neural network"
   ]
  },
  {
   "cell_type": "code",
   "execution_count": null,
   "id": "d03f9933",
   "metadata": {},
   "outputs": [],
   "source": [
    "step function -> 0 or 1"
   ]
  },
  {
   "cell_type": "markdown",
   "id": "79aef24e",
   "metadata": {},
   "source": [
    "## Multi Layer Perceptron (Neural Networks)\n",
    "\n",
    "https://github.com/hemansnation/AI-ML-MLOps-GenAI-Live-Summer-Cohort-2024/blob/main/Module%2006%20-%20Machine%20Learning%20Algorithms/6_Neural%20Networks/26_Neural%20Networks.ipynb\n",
    "\n",
    "<img src='nn1.gif' />"
   ]
  },
  {
   "cell_type": "code",
   "execution_count": null,
   "id": "7508595b",
   "metadata": {},
   "outputs": [],
   "source": []
  },
  {
   "cell_type": "markdown",
   "id": "a5ff0511",
   "metadata": {},
   "source": [
    "## Neural Network Equation\n",
    "\n",
    "<img src='nn2.png' />"
   ]
  },
  {
   "cell_type": "code",
   "execution_count": null,
   "id": "27d7472e",
   "metadata": {},
   "outputs": [],
   "source": [
    "155513 -> activation function/transfer function"
   ]
  },
  {
   "attachments": {},
   "cell_type": "markdown",
   "id": "b2c498bd",
   "metadata": {},
   "source": [
    "## Activation Function\n",
    "\n",
    "Sigmoid Activation\n",
    "\n",
    "<img src='nn3.png' />"
   ]
  },
  {
   "cell_type": "code",
   "execution_count": null,
   "id": "95252235",
   "metadata": {},
   "outputs": [],
   "source": [
    "it is used to get the output of a node(neuron)"
   ]
  },
  {
   "cell_type": "code",
   "execution_count": null,
   "id": "597831b4",
   "metadata": {},
   "outputs": [],
   "source": [
    "why activation function\n",
    "\n",
    "- it is used to determine the outout of neural network in a certain range or category\n",
    "    0 to 1, -1 to 1, \n",
    "    yes or no\n",
    "    \n",
    "    \n",
    "2 types of activation functions\n",
    "\n",
    "- linear\n",
    "- non-linear\n",
    "    - sigmoid \n",
    "    - tanh\n",
    "    - relu\n",
    "    - leaky relu\n",
    "    - softmax"
   ]
  },
  {
   "cell_type": "markdown",
   "id": "6dfcd660",
   "metadata": {},
   "source": [
    "### sigmoid activation"
   ]
  },
  {
   "cell_type": "code",
   "execution_count": null,
   "id": "2f7462cc",
   "metadata": {},
   "outputs": [],
   "source": [
    "range -> (0,1)\n",
    "\n",
    "- predict the probability as an output\n",
    "- binary classification"
   ]
  },
  {
   "cell_type": "code",
   "execution_count": null,
   "id": "2d6cb708",
   "metadata": {},
   "outputs": [],
   "source": [
    "e = 2.72"
   ]
  },
  {
   "cell_type": "code",
   "execution_count": 1,
   "id": "bbf51b82",
   "metadata": {},
   "outputs": [],
   "source": [
    "import math\n",
    "\n",
    "def sigmoid(x):\n",
    "    return 1/(1 + math.exp(-x))"
   ]
  },
  {
   "cell_type": "code",
   "execution_count": 2,
   "id": "848e658a",
   "metadata": {},
   "outputs": [
    {
     "data": {
      "text/plain": [
       "1.0"
      ]
     },
     "execution_count": 2,
     "metadata": {},
     "output_type": "execute_result"
    }
   ],
   "source": [
    "sigmoid(100)"
   ]
  },
  {
   "cell_type": "code",
   "execution_count": 3,
   "id": "f3ea33a2",
   "metadata": {},
   "outputs": [
    {
     "data": {
      "text/plain": [
       "1.0"
      ]
     },
     "execution_count": 3,
     "metadata": {},
     "output_type": "execute_result"
    }
   ],
   "source": [
    "sigmoid(155513)"
   ]
  },
  {
   "cell_type": "code",
   "execution_count": 4,
   "id": "c63f1d30",
   "metadata": {},
   "outputs": [
    {
     "data": {
      "text/plain": [
       "0.7310585786300049"
      ]
     },
     "execution_count": 4,
     "metadata": {},
     "output_type": "execute_result"
    }
   ],
   "source": [
    "sigmoid(1)"
   ]
  },
  {
   "cell_type": "code",
   "execution_count": 5,
   "id": "5b0e97f8",
   "metadata": {},
   "outputs": [
    {
     "data": {
      "text/plain": [
       "0.598687660112452"
      ]
     },
     "execution_count": 5,
     "metadata": {},
     "output_type": "execute_result"
    }
   ],
   "source": [
    "sigmoid(0.4)"
   ]
  },
  {
   "cell_type": "code",
   "execution_count": null,
   "id": "cfd686cd",
   "metadata": {},
   "outputs": [],
   "source": [
    "bias - additional parameter in the neron that will help the \n",
    "        activation function to be shifted left or right"
   ]
  },
  {
   "cell_type": "code",
   "execution_count": null,
   "id": "8e2024d7",
   "metadata": {},
   "outputs": [],
   "source": []
  },
  {
   "cell_type": "markdown",
   "id": "1c729144",
   "metadata": {},
   "source": [
    "# 2. Various Neural Network Architectures"
   ]
  },
  {
   "cell_type": "code",
   "execution_count": null,
   "id": "8a478cd0",
   "metadata": {},
   "outputs": [],
   "source": [
    "CNN\n",
    "RNN\n",
    "LSTM\n",
    "GRU\n",
    "Autoencoders\n",
    "GAN"
   ]
  },
  {
   "cell_type": "code",
   "execution_count": null,
   "id": "99e39768",
   "metadata": {},
   "outputs": [],
   "source": []
  },
  {
   "cell_type": "code",
   "execution_count": null,
   "id": "dae41a11",
   "metadata": {},
   "outputs": [],
   "source": [
    "What is the biggest real life example of Linear Algebra?\n",
    "\n",
    "vectors and matrix"
   ]
  },
  {
   "cell_type": "markdown",
   "id": "b0db0651",
   "metadata": {},
   "source": [
    "## Convolutional Neural Networks (CNNs)\n",
    "\n",
    "https://github.com/hemansnation/AI-ML-MLOps-GenAI-Live-Summer-Cohort-2024/blob/main/Module%2007%20-%20NLP%20x%20Deep%20Learning/31_32_Convolutional%20Neural%20Networks.ipynb\n",
    "\n",
    "Convolution\n",
    "\n",
    "<img src='c1.png' />"
   ]
  },
  {
   "cell_type": "code",
   "execution_count": null,
   "id": "d5d57556",
   "metadata": {},
   "outputs": [],
   "source": [
    "ANN\n",
    "\n",
    "1000x1000x3 = huge number\n",
    "\n",
    "\n",
    "RGB\n",
    "0-255\n",
    "\n",
    "\n",
    "- convolution is a mathematical operation\n",
    "- the fundamental part of CNN is a filter(matrix)\n"
   ]
  },
  {
   "cell_type": "markdown",
   "id": "e25f9008",
   "metadata": {},
   "source": [
    "<img src='c2.png' />"
   ]
  },
  {
   "cell_type": "code",
   "execution_count": null,
   "id": "e93a454f",
   "metadata": {},
   "outputs": [],
   "source": []
  },
  {
   "cell_type": "markdown",
   "id": "06f3c78f",
   "metadata": {},
   "source": [
    "<img src='c5.png' />"
   ]
  },
  {
   "cell_type": "code",
   "execution_count": null,
   "id": "850c7643",
   "metadata": {},
   "outputs": [],
   "source": []
  },
  {
   "cell_type": "markdown",
   "id": "1faf8557",
   "metadata": {},
   "source": [
    "<img src='c6.png' />"
   ]
  },
  {
   "cell_type": "code",
   "execution_count": null,
   "id": "61ec0873",
   "metadata": {},
   "outputs": [],
   "source": []
  },
  {
   "cell_type": "markdown",
   "id": "4e21554c",
   "metadata": {},
   "source": [
    "<img src='c14.png' />"
   ]
  },
  {
   "cell_type": "code",
   "execution_count": null,
   "id": "6a651d39",
   "metadata": {},
   "outputs": [],
   "source": []
  },
  {
   "cell_type": "markdown",
   "id": "4e1d0d27",
   "metadata": {},
   "source": [
    "<img src='c16.png' />"
   ]
  },
  {
   "cell_type": "code",
   "execution_count": null,
   "id": "034bab32",
   "metadata": {},
   "outputs": [],
   "source": [
    "## real world applications\n",
    "\n",
    "- facial recognition -> DCNN (Deep CNN)\n",
    "- image classification\n",
    "- object detection\n",
    "- medical image analysis - Xrays, MRIs\n",
    "- video analytics - action recognition\n",
    "- NLP - text classification, language translation, sentiment analysis(SpaCy, NLTK)"
   ]
  },
  {
   "cell_type": "markdown",
   "id": "0fdd441f",
   "metadata": {},
   "source": [
    "## Recurrent(feedback) Neural Networks (RNNs)\n",
    "\n",
    "https://github.com/hemansnation/AI-ML-MLOps-GenAI-Live-Summer-Cohort-2024/blob/main/Module%2007%20-%20NLP%20x%20Deep%20Learning/33_Recurrent%20Neural%20Network.ipynb\n",
    "\n",
    "\n",
    "<img src='r2.png' />"
   ]
  },
  {
   "cell_type": "code",
   "execution_count": null,
   "id": "77aebae6",
   "metadata": {},
   "outputs": [],
   "source": [
    "translation\n",
    "- google translate\n",
    "- apple siri\n",
    "\n",
    "used for sequential data"
   ]
  },
  {
   "cell_type": "code",
   "execution_count": null,
   "id": "65ae156a",
   "metadata": {},
   "outputs": [],
   "source": [
    "memorize parts of the input and use them to make accurate predictions"
   ]
  },
  {
   "cell_type": "code",
   "execution_count": null,
   "id": "1a635fa4",
   "metadata": {},
   "outputs": [],
   "source": [
    "this is a red ..... {apple}\n",
    "\n",
    "0 - a\n",
    "1 - are\n",
    "2 - apple\n",
    ".\n",
    ".\n",
    ".\n",
    ".\n",
    "4100 - this\n",
    ".\n",
    ".\n",
    "10000 - "
   ]
  },
  {
   "cell_type": "code",
   "execution_count": null,
   "id": "2ac235b6",
   "metadata": {},
   "outputs": [],
   "source": [
    "## issue with RNN\n",
    "\n",
    "loss of memory\n",
    "\n",
    "\n",
    "Himanshu is taking the session. He is sitting on the chair.\n",
    "\n",
    "\n",
    "- large weight updates\n",
    "- vanishing gradient (gradient will goes to zero)\n",
    "\n",
    "cause\n",
    "- chain in multiplication\n",
    "- long sequence"
   ]
  },
  {
   "cell_type": "code",
   "execution_count": null,
   "id": "736b90f1",
   "metadata": {},
   "outputs": [],
   "source": [
    "RNN Architectures\n",
    "\n",
    "- Bidirectional RNN\n",
    "- Gated Recurrent Unit(GRU)\n",
    "- Long Short Term Memory(LSTM)"
   ]
  },
  {
   "cell_type": "markdown",
   "id": "c49a7a1d",
   "metadata": {},
   "source": [
    "## Long Short-Term Memory (LSTM)\n",
    "\n",
    "https://github.com/hemansnation/AI-ML-MLOps-GenAI-Live-Summer-Cohort-2024/blob/main/Module%2007%20-%20NLP%20x%20Deep%20Learning/34_LSTM%20and%20GRU.ipynb\n",
    "\n",
    "<img src='l1.png' />"
   ]
  },
  {
   "cell_type": "code",
   "execution_count": null,
   "id": "64f952aa",
   "metadata": {},
   "outputs": [],
   "source": [
    "LSTM machanism -> gates\n",
    "\n",
    "- it stores relavant information to make predictions for a long period of time\n",
    "\n",
    "- cell state - memory of the network\n",
    "- gates\n",
    "    - forget gate - it will decide what info should be thrown away or kept\n",
    "    - input gate - update the cell state\n",
    "    - cell state \n",
    "    - output gate - determines what next hidden state should be"
   ]
  },
  {
   "cell_type": "code",
   "execution_count": null,
   "id": "d986b2f3",
   "metadata": {},
   "outputs": [],
   "source": [
    "GRU are faster than LSTM\n",
    "\n",
    "- less tensor operations"
   ]
  },
  {
   "cell_type": "code",
   "execution_count": null,
   "id": "759865b2",
   "metadata": {},
   "outputs": [],
   "source": []
  },
  {
   "cell_type": "markdown",
   "id": "2e879314",
   "metadata": {},
   "source": [
    "# Transfer Learning\n",
    "\n",
    "\n",
    "<img src='t1.png' />"
   ]
  },
  {
   "cell_type": "code",
   "execution_count": null,
   "id": "6b6e7084",
   "metadata": {},
   "outputs": [],
   "source": [
    "ML - serialization\n"
   ]
  },
  {
   "cell_type": "code",
   "execution_count": null,
   "id": "d8811f23",
   "metadata": {},
   "outputs": [],
   "source": [
    "DL - Transfer Learning\n",
    "\n",
    "pretrained model is reused as the starting point for a different but related problem\n",
    "\n",
    "fine-tuning - \n",
    "- you contiune the training where it left off.\n",
    "- this will allow the model to adjust from generic feature extraction \n",
    "    to feature more specific to your task\n"
   ]
  },
  {
   "cell_type": "code",
   "execution_count": null,
   "id": "0a99c1ba",
   "metadata": {},
   "outputs": [],
   "source": []
  },
  {
   "cell_type": "code",
   "execution_count": null,
   "id": "2d323ce1",
   "metadata": {},
   "outputs": [],
   "source": []
  }
 ],
 "metadata": {
  "kernelspec": {
   "display_name": "Python 3 (ipykernel)",
   "language": "python",
   "name": "python3"
  },
  "language_info": {
   "codemirror_mode": {
    "name": "ipython",
    "version": 3
   },
   "file_extension": ".py",
   "mimetype": "text/x-python",
   "name": "python",
   "nbconvert_exporter": "python",
   "pygments_lexer": "ipython3",
   "version": "3.9.12"
  }
 },
 "nbformat": 4,
 "nbformat_minor": 5
}
