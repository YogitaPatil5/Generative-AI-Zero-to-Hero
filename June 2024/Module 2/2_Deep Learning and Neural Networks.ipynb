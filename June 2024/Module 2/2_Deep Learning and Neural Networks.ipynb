{
 "cells": [
  {
   "cell_type": "markdown",
   "id": "030f7b4f",
   "metadata": {},
   "source": [
    "# Deep Learning and NN\n",
    "\n",
    "1. Neural Networks\n",
    "    - Neuron\n",
    "    - Perceptron\n",
    "    - Multi-Layer Perceptron\n",
    "2. Various Neural Network Architectures\n",
    "    - Convolutional Neural Networks (CNNs)\n",
    "    - Recurrent Neural Networks (RNNs)\n",
    "    - Long Short-Term Memory (LSTM)\n",
    "3. Transfer Learning"
   ]
  },
  {
   "cell_type": "markdown",
   "id": "5b6566ed",
   "metadata": {},
   "source": [
    "# Deep Learning"
   ]
  },
  {
   "cell_type": "code",
   "execution_count": null,
   "id": "f288007a",
   "metadata": {},
   "outputs": [],
   "source": [
    "Machine Learning - used for structured data (relational databases)\n",
    "- we do feature engineering\n",
    "\n",
    "\n",
    "Deep Learning - used for unstructred data (text, images, videos, audios)\n",
    "- we do not need feature engineering\n"
   ]
  },
  {
   "cell_type": "markdown",
   "id": "a3e605ac",
   "metadata": {},
   "source": [
    "# Neuron\n",
    "\n",
    "<img src='n11.jpeg' />"
   ]
  },
  {
   "cell_type": "code",
   "execution_count": null,
   "id": "c97ceb2d",
   "metadata": {},
   "outputs": [],
   "source": []
  },
  {
   "cell_type": "markdown",
   "id": "305ddaee",
   "metadata": {},
   "source": [
    "## Single Neuron (unit)\n",
    "\n",
    "with single input\n",
    "\n",
    "<img src='n3.png' />"
   ]
  },
  {
   "cell_type": "code",
   "execution_count": null,
   "id": "e0135d1b",
   "metadata": {},
   "outputs": [],
   "source": [
    "y = wx + b\n",
    "\n",
    "# w - weights\n",
    "\n",
    "# b - bias\n",
    "\n",
    "y = mx + c"
   ]
  },
  {
   "cell_type": "markdown",
   "id": "e16ed5f2",
   "metadata": {},
   "source": [
    "## multiple input\n",
    "\n",
    "<img src='n4.png' />"
   ]
  },
  {
   "cell_type": "code",
   "execution_count": null,
   "id": "fd8a8649",
   "metadata": {},
   "outputs": [],
   "source": [
    "y = x0w0 + x1w1 + x2w2 + b\n",
    "\n"
   ]
  },
  {
   "cell_type": "code",
   "execution_count": null,
   "id": "08d9e5fd",
   "metadata": {},
   "outputs": [],
   "source": []
  },
  {
   "cell_type": "markdown",
   "id": "545a055e",
   "metadata": {},
   "source": [
    "# Perceptron\n",
    "\n",
    "<img src='n5.png' />"
   ]
  },
  {
   "cell_type": "code",
   "execution_count": null,
   "id": "a797687f",
   "metadata": {},
   "outputs": [],
   "source": [
    "perceptron is a single layer neural network"
   ]
  },
  {
   "cell_type": "code",
   "execution_count": null,
   "id": "cadb75ad",
   "metadata": {},
   "outputs": [],
   "source": [
    "step function -> 0 or 1"
   ]
  },
  {
   "cell_type": "markdown",
   "id": "a266d5df",
   "metadata": {},
   "source": [
    "## Multi Layer Perceptron (Neural Networks)\n",
    "\n",
    "https://github.com/hemansnation/AI-ML-MLOps-GenAI-Live-Summer-Cohort-2024/blob/main/Module%2006%20-%20Machine%20Learning%20Algorithms/6_Neural%20Networks/26_Neural%20Networks.ipynb\n",
    "\n",
    "<img src='nn1.gif' />"
   ]
  },
  {
   "cell_type": "code",
   "execution_count": null,
   "id": "758527c3",
   "metadata": {},
   "outputs": [],
   "source": []
  },
  {
   "cell_type": "markdown",
   "id": "48e876d3",
   "metadata": {},
   "source": [
    "## Neural Network Equation\n",
    "\n",
    "<img src='nn2.png' />"
   ]
  },
  {
   "cell_type": "code",
   "execution_count": null,
   "id": "f0cf7934",
   "metadata": {},
   "outputs": [],
   "source": [
    "155513 -> activation function/transfer function"
   ]
  },
  {
   "attachments": {},
   "cell_type": "markdown",
   "id": "2da7563c",
   "metadata": {},
   "source": [
    "## Activation Function\n",
    "\n",
    "Sigmoid Activation\n",
    "\n",
    "<img src='nn3.png' />"
   ]
  },
  {
   "cell_type": "code",
   "execution_count": null,
   "id": "c4f2dc4c",
   "metadata": {},
   "outputs": [],
   "source": [
    "it is used to get the output of a node(neuron)"
   ]
  },
  {
   "cell_type": "code",
   "execution_count": null,
   "id": "efb932d7",
   "metadata": {},
   "outputs": [],
   "source": [
    "why activation function\n",
    "\n",
    "- it is used to determine the outout of neural network in a certain range or category\n",
    "    0 to 1, -1 to 1, \n",
    "    yes or no\n",
    "    \n",
    "    \n",
    "2 types of activation functions\n",
    "\n",
    "- linear\n",
    "- non-linear\n",
    "    - sigmoid \n",
    "    - tanh\n",
    "    - relu\n",
    "    - leaky relu\n",
    "    - softmax"
   ]
  },
  {
   "cell_type": "markdown",
   "id": "e7dcd222",
   "metadata": {},
   "source": [
    "### sigmoid activation"
   ]
  },
  {
   "cell_type": "code",
   "execution_count": null,
   "id": "a840a093",
   "metadata": {},
   "outputs": [],
   "source": [
    "range -> (0,1)\n",
    "\n",
    "- predict the probability as an output\n",
    "- binary classification"
   ]
  },
  {
   "cell_type": "code",
   "execution_count": null,
   "id": "635cf3a0",
   "metadata": {},
   "outputs": [],
   "source": [
    "e = 2.72"
   ]
  },
  {
   "cell_type": "code",
   "execution_count": 1,
   "id": "67deeac8",
   "metadata": {},
   "outputs": [],
   "source": [
    "import math\n",
    "\n",
    "def sigmoid(x):\n",
    "    return 1/(1 + math.exp(-x))"
   ]
  },
  {
   "cell_type": "code",
   "execution_count": 2,
   "id": "a67baf26",
   "metadata": {},
   "outputs": [
    {
     "data": {
      "text/plain": [
       "1.0"
      ]
     },
     "execution_count": 2,
     "metadata": {},
     "output_type": "execute_result"
    }
   ],
   "source": [
    "sigmoid(100)"
   ]
  },
  {
   "cell_type": "code",
   "execution_count": 3,
   "id": "b0b49858",
   "metadata": {},
   "outputs": [
    {
     "data": {
      "text/plain": [
       "1.0"
      ]
     },
     "execution_count": 3,
     "metadata": {},
     "output_type": "execute_result"
    }
   ],
   "source": [
    "sigmoid(155513)"
   ]
  },
  {
   "cell_type": "code",
   "execution_count": 4,
   "id": "c0fbed2f",
   "metadata": {},
   "outputs": [
    {
     "data": {
      "text/plain": [
       "0.7310585786300049"
      ]
     },
     "execution_count": 4,
     "metadata": {},
     "output_type": "execute_result"
    }
   ],
   "source": [
    "sigmoid(1)"
   ]
  },
  {
   "cell_type": "code",
   "execution_count": 5,
   "id": "b6ee127c",
   "metadata": {},
   "outputs": [
    {
     "data": {
      "text/plain": [
       "0.598687660112452"
      ]
     },
     "execution_count": 5,
     "metadata": {},
     "output_type": "execute_result"
    }
   ],
   "source": [
    "sigmoid(0.4)"
   ]
  },
  {
   "cell_type": "code",
   "execution_count": null,
   "id": "8d724a61",
   "metadata": {},
   "outputs": [],
   "source": [
    "bias - additional parameter in the neron that will help the \n",
    "        activation function to be shifted left or right"
   ]
  },
  {
   "cell_type": "code",
   "execution_count": null,
   "id": "7f2418a5",
   "metadata": {},
   "outputs": [],
   "source": []
  },
  {
   "cell_type": "markdown",
   "id": "66dafcce",
   "metadata": {},
   "source": [
    "# 2. Various Neural Network Architectures"
   ]
  },
  {
   "cell_type": "code",
   "execution_count": null,
   "id": "056887a6",
   "metadata": {},
   "outputs": [],
   "source": [
    "CNN\n",
    "RNN\n",
    "LSTM\n",
    "GRU\n",
    "Autoencoders\n",
    "GAN"
   ]
  },
  {
   "cell_type": "code",
   "execution_count": null,
   "id": "8724870f",
   "metadata": {},
   "outputs": [],
   "source": []
  },
  {
   "cell_type": "code",
   "execution_count": null,
   "id": "35263d9d",
   "metadata": {},
   "outputs": [],
   "source": [
    "What is the biggest real life example of Linear Algebra?\n",
    "\n",
    "vectors and matrix"
   ]
  },
  {
   "cell_type": "markdown",
   "id": "32e6787d",
   "metadata": {},
   "source": [
    "## Convolutional Neural Networks (CNNs)\n",
    "\n",
    "https://github.com/hemansnation/AI-ML-MLOps-GenAI-Live-Summer-Cohort-2024/blob/main/Module%2007%20-%20NLP%20x%20Deep%20Learning/31_32_Convolutional%20Neural%20Networks.ipynb\n",
    "\n",
    "Convolution\n",
    "\n",
    "<img src='c1.png' />"
   ]
  },
  {
   "cell_type": "code",
   "execution_count": null,
   "id": "6c3506cb",
   "metadata": {},
   "outputs": [],
   "source": [
    "ANN\n",
    "\n",
    "1000x1000x3 = huge number\n",
    "\n",
    "\n",
    "RGB\n",
    "0-255\n",
    "\n",
    "\n",
    "- convolution is a mathematical operation\n",
    "- the fundamental part of CNN is a filter(matrix)\n"
   ]
  },
  {
   "cell_type": "markdown",
   "id": "6f6caf82",
   "metadata": {},
   "source": [
    "<img src='c2.png' />"
   ]
  },
  {
   "cell_type": "code",
   "execution_count": null,
   "id": "b4d148e4",
   "metadata": {},
   "outputs": [],
   "source": []
  },
  {
   "cell_type": "markdown",
   "id": "47bc1f79",
   "metadata": {},
   "source": [
    "<img src='c5.png' />"
   ]
  },
  {
   "cell_type": "code",
   "execution_count": null,
   "id": "0bb7eb90",
   "metadata": {},
   "outputs": [],
   "source": []
  },
  {
   "cell_type": "markdown",
   "id": "5edba01f",
   "metadata": {},
   "source": [
    "<img src='c6.png' />"
   ]
  },
  {
   "cell_type": "code",
   "execution_count": null,
   "id": "586f9386",
   "metadata": {},
   "outputs": [],
   "source": []
  },
  {
   "cell_type": "markdown",
   "id": "e1883815",
   "metadata": {},
   "source": [
    "<img src='c14.png' />"
   ]
  },
  {
   "cell_type": "code",
   "execution_count": null,
   "id": "dc03af12",
   "metadata": {},
   "outputs": [],
   "source": []
  },
  {
   "cell_type": "markdown",
   "id": "adbb8edb",
   "metadata": {},
   "source": [
    "<img src='c16.png' />"
   ]
  },
  {
   "cell_type": "code",
   "execution_count": null,
   "id": "6e622da7",
   "metadata": {},
   "outputs": [],
   "source": [
    "## real world applications\n",
    "\n",
    "- facial recognition -> DCNN (Deep CNN)\n",
    "- image classification\n",
    "- object detection\n",
    "- medical image analysis - Xrays, MRIs\n",
    "- video analytics - action recognition\n",
    "- NLP - text classification, language translation, sentiment analysis(SpaCy, NLTK)"
   ]
  },
  {
   "cell_type": "markdown",
   "id": "06645050",
   "metadata": {},
   "source": [
    "## Recurrent(feedback) Neural Networks (RNNs)\n",
    "\n",
    "https://github.com/hemansnation/AI-ML-MLOps-GenAI-Live-Summer-Cohort-2024/blob/main/Module%2007%20-%20NLP%20x%20Deep%20Learning/33_Recurrent%20Neural%20Network.ipynb\n",
    "\n",
    "\n",
    "<img src='r2.png' />"
   ]
  },
  {
   "cell_type": "code",
   "execution_count": null,
   "id": "d79ea2c3",
   "metadata": {},
   "outputs": [],
   "source": [
    "translation\n",
    "- google translate\n",
    "- apple siri\n",
    "\n",
    "used for sequential data"
   ]
  },
  {
   "cell_type": "code",
   "execution_count": null,
   "id": "d1fa9463",
   "metadata": {},
   "outputs": [],
   "source": [
    "memorize parts of the input and use them to make accurate predictions"
   ]
  },
  {
   "cell_type": "code",
   "execution_count": null,
   "id": "6aa97f8b",
   "metadata": {},
   "outputs": [],
   "source": [
    "this is a red ..... {apple}\n",
    "\n",
    "0 - a\n",
    "1 - are\n",
    "2 - apple\n",
    ".\n",
    ".\n",
    ".\n",
    ".\n",
    "4100 - this\n",
    ".\n",
    ".\n",
    "10000 - "
   ]
  },
  {
   "cell_type": "code",
   "execution_count": null,
   "id": "501d6fc2",
   "metadata": {},
   "outputs": [],
   "source": [
    "## issue with RNN\n",
    "\n",
    "loss of memory\n",
    "\n",
    "\n",
    "Himanshu is taking the session. He is sitting on the chair.\n",
    "\n",
    "\n",
    "- large weight updates\n",
    "- vanishing gradient (gradient will goes to zero)\n",
    "\n",
    "cause\n",
    "- chain in multiplication\n",
    "- long sequence"
   ]
  },
  {
   "cell_type": "code",
   "execution_count": null,
   "id": "a945658c",
   "metadata": {},
   "outputs": [],
   "source": [
    "RNN Architectures\n",
    "\n",
    "- Bidirectional RNN\n",
    "- Gated Recurrent Unit(GRU)\n",
    "- Long Short Term Memory(LSTM)"
   ]
  },
  {
   "cell_type": "markdown",
   "id": "a89233c7",
   "metadata": {},
   "source": [
    "## Long Short-Term Memory (LSTM)\n",
    "\n",
    "https://github.com/hemansnation/AI-ML-MLOps-GenAI-Live-Summer-Cohort-2024/blob/main/Module%2007%20-%20NLP%20x%20Deep%20Learning/34_LSTM%20and%20GRU.ipynb\n",
    "\n",
    "<img src='l1.png' />"
   ]
  },
  {
   "cell_type": "code",
   "execution_count": null,
   "id": "508d5cd3",
   "metadata": {},
   "outputs": [],
   "source": [
    "LSTM machanism -> gates\n",
    "\n",
    "- it stores relavant information to make predictions for a long period of time\n",
    "\n",
    "- cell state - memory of the network\n",
    "- gates\n",
    "    - forget gate - it will decide what info should be thrown away or kept\n",
    "    - input gate - update the cell state\n",
    "    - cell state \n",
    "    - output gate - determines what next hidden state should be"
   ]
  },
  {
   "cell_type": "code",
   "execution_count": null,
   "id": "cc7edcc3",
   "metadata": {},
   "outputs": [],
   "source": [
    "GRU are faster than LSTM\n",
    "\n",
    "- less tensor operations"
   ]
  },
  {
   "cell_type": "code",
   "execution_count": null,
   "id": "5cfb8a1e",
   "metadata": {},
   "outputs": [],
   "source": []
  },
  {
   "cell_type": "markdown",
   "id": "d62e1027",
   "metadata": {},
   "source": [
    "# Transfer Learning\n",
    "\n",
    "\n",
    "<img src='t1.png' />"
   ]
  },
  {
   "cell_type": "code",
   "execution_count": null,
   "id": "bc4c864a",
   "metadata": {},
   "outputs": [],
   "source": [
    "ML - serialization\n"
   ]
  },
  {
   "cell_type": "code",
   "execution_count": null,
   "id": "11556b23",
   "metadata": {},
   "outputs": [],
   "source": [
    "DL - Transfer Learning\n",
    "\n",
    "pretrained model is reused as the starting point for a different but related problem\n",
    "\n",
    "fine-tuning - \n",
    "- you contiune the training where it left off.\n",
    "- this will allow the model to adjust from generic feature extraction \n",
    "    to feature more specific to your task\n"
   ]
  },
  {
   "cell_type": "code",
   "execution_count": null,
   "id": "cfca6ea8",
   "metadata": {},
   "outputs": [],
   "source": []
  },
  {
   "cell_type": "code",
   "execution_count": null,
   "id": "43bb9830",
   "metadata": {},
   "outputs": [],
   "source": []
  }
 ],
 "metadata": {
  "kernelspec": {
   "display_name": "Python 3 (ipykernel)",
   "language": "python",
   "name": "python3"
  },
  "language_info": {
   "codemirror_mode": {
    "name": "ipython",
    "version": 3
   },
   "file_extension": ".py",
   "mimetype": "text/x-python",
   "name": "python",
   "nbconvert_exporter": "python",
   "pygments_lexer": "ipython3",
   "version": "3.9.12"
  }
 },
 "nbformat": 4,
 "nbformat_minor": 5
}
